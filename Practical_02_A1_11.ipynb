{
  "nbformat": 4,
  "nbformat_minor": 0,
  "metadata": {
    "colab": {
      "provenance": []
    },
    "kernelspec": {
      "name": "python3",
      "display_name": "Python 3"
    },
    "language_info": {
      "name": "python"
    }
  },
  "cells": [
    {
      "cell_type": "markdown",
      "source": [
        "**ARTIFICIAL INTELLIGENCE LAB**\n",
        "\n",
        "NAME: AKSHAT TIWARI\n",
        "\n",
        "SECTION: A\n",
        "\n",
        "ROLL NUMBER: A-11\n"
      ],
      "metadata": {
        "id": "RYzWSRAYSEIN"
      }
    },
    {
      "cell_type": "markdown",
      "source": [
        "# **Breadth First Search**"
      ],
      "metadata": {
        "id": "wyJB7FdwThpm"
      }
    },
    {
      "cell_type": "code",
      "source": [
        "from collections import deque\n",
        "\n",
        "def bfs(graph, start, goal):\n",
        "    visited = set()\n",
        "    queue = deque([start])\n",
        "    traversal = []\n",
        "\n",
        "    while queue:\n",
        "        node = queue.popleft()\n",
        "        if node not in visited:\n",
        "            traversal.append(node)\n",
        "            visited.add(node)\n",
        "            if node == goal:\n",
        "                print(f\"Traversal (BFS): {' -> '.join(traversal)}\")\n",
        "                print(f\"Goal {goal} found\")\n",
        "                return True\n",
        "            queue.extend(graph[node])\n",
        "\n",
        "    print(f\"Traversal (BFS): {' -> '.join(traversal)}\")\n",
        "    print(\"Goal not found.\")\n",
        "    return False"
      ],
      "metadata": {
        "id": "bcAJctKeTHcf"
      },
      "execution_count": null,
      "outputs": []
    },
    {
      "cell_type": "code",
      "source": [
        "graph = {\n",
        "    '0': ['1', '3', '4'],\n",
        "    '1': ['2', '0'],\n",
        "    '2': [],\n",
        "    '3': ['0', '5'],\n",
        "    '4': ['0', '5'],\n",
        "    '5': ['3', '4']\n",
        "}"
      ],
      "metadata": {
        "id": "mbALMVC8UHHu"
      },
      "execution_count": null,
      "outputs": []
    },
    {
      "cell_type": "code",
      "source": [
        "bfs(graph, '0', '5')"
      ],
      "metadata": {
        "colab": {
          "base_uri": "https://localhost:8080/"
        },
        "id": "CKzeCsYiUZhV",
        "outputId": "045782a6-8916-4672-eca9-6b4563b945b1"
      },
      "execution_count": null,
      "outputs": [
        {
          "output_type": "stream",
          "name": "stdout",
          "text": [
            "Traversal (BFS): 0 -> 1 -> 3 -> 4 -> 2 -> 5\n",
            "Goal 5 found!\n"
          ]
        },
        {
          "output_type": "execute_result",
          "data": {
            "text/plain": [
              "True"
            ]
          },
          "metadata": {},
          "execution_count": 28
        }
      ]
    },
    {
      "cell_type": "markdown",
      "source": [
        "# **Depth First Search**"
      ],
      "metadata": {
        "id": "ksJrvzBLTZ1k"
      }
    },
    {
      "cell_type": "code",
      "source": [
        "def dfs(graph, start, goal, visited=None, traversal=None):\n",
        "    if visited is None:\n",
        "        visited = set()\n",
        "    if traversal is None:\n",
        "        traversal = []\n",
        "\n",
        "    visited.add(start)\n",
        "    traversal.append(start)\n",
        "\n",
        "    if start == goal:\n",
        "        print(f\"Traversal (DFS): {' -> '.join(traversal)}\")\n",
        "        print(f\"Goal {goal} found\")\n",
        "        return True\n",
        "\n",
        "    for neighbor in graph[start]:\n",
        "        if neighbor not in visited:\n",
        "            if dfs(graph, neighbor, goal, visited, traversal):\n",
        "                return True\n",
        "\n",
        "    return False"
      ],
      "metadata": {
        "id": "LsDPAmazTONl"
      },
      "execution_count": null,
      "outputs": []
    },
    {
      "cell_type": "code",
      "source": [
        "dfs(graph, '0', '5')"
      ],
      "metadata": {
        "colab": {
          "base_uri": "https://localhost:8080/"
        },
        "id": "94zm5V0KTO7b",
        "outputId": "56f7a5f5-91d6-4126-ca9f-e1dfed5c85ca"
      },
      "execution_count": null,
      "outputs": [
        {
          "output_type": "stream",
          "name": "stdout",
          "text": [
            "Traversal (DFS): 0 -> 1 -> 2 -> 3 -> 5\n",
            "Goal 5 found\n"
          ]
        },
        {
          "output_type": "execute_result",
          "data": {
            "text/plain": [
              "True"
            ]
          },
          "metadata": {},
          "execution_count": 30
        }
      ]
    },
    {
      "cell_type": "markdown",
      "source": [
        "# **WATER JUG PROBLEM USING BFS**"
      ],
      "metadata": {
        "id": "t1ZBy-ezY5gb"
      }
    },
    {
      "cell_type": "code",
      "source": [
        "from collections import deque\n",
        "\n",
        "def water_jug_bfs(a, b, target):\n",
        "    visited = set()\n",
        "    queue = deque()\n",
        "    queue.append(((0, 0), []))\n",
        "    iteration = 0\n",
        "\n",
        "    print(\"Traversal and iterations:\\n\")\n",
        "\n",
        "    while queue:\n",
        "        (x, y), path = queue.popleft()\n",
        "        iteration += 1\n",
        "        print(f\"Iteration {iteration}: Visiting ({x}, {y})\")\n",
        "\n",
        "        if x == target or y == target:\n",
        "            print(\"\\n Target reached\")\n",
        "            print(\"Path taken:\")\n",
        "            for step in path + [(x, y)]:\n",
        "                print(step)\n",
        "            return True\n",
        "\n",
        "        if (x, y) in visited:\n",
        "            continue\n",
        "        visited.add((x, y))\n",
        "\n",
        "        next_states = [\n",
        "            (a, y),  # Fill jug A\n",
        "            (x, b),  # Fill jug B\n",
        "            (0, y),  # Empty jug A\n",
        "            (x, 0),  # Empty jug B\n",
        "            (x - min(x, b - y), y + min(x, b - y)),  # Pour A to B\n",
        "            (x + min(y, a - x), y - min(y, a - x))   # Pour B to A\n",
        "        ]\n",
        "\n",
        "        for state in next_states:\n",
        "            if state not in visited:\n",
        "                queue.append((state, path + [(x, y)]))\n",
        "\n",
        "    print(\"\\nTarget not reachable.\")\n",
        "    return False"
      ],
      "metadata": {
        "id": "0Z5l617wU2Xl"
      },
      "execution_count": null,
      "outputs": []
    },
    {
      "cell_type": "code",
      "source": [
        "water_jug_bfs(4, 3, 2)"
      ],
      "metadata": {
        "id": "a6wTVTK4aCBc",
        "outputId": "1b285380-c2e1-471b-e942-40f7f988c5db",
        "colab": {
          "base_uri": "https://localhost:8080/"
        }
      },
      "execution_count": null,
      "outputs": [
        {
          "output_type": "stream",
          "name": "stdout",
          "text": [
            "Traversal and iterations:\n",
            "\n",
            "Iteration 1: Visiting (0, 0)\n",
            "Iteration 2: Visiting (4, 0)\n",
            "Iteration 3: Visiting (0, 3)\n",
            "Iteration 4: Visiting (4, 3)\n",
            "Iteration 5: Visiting (1, 3)\n",
            "Iteration 6: Visiting (4, 3)\n",
            "Iteration 7: Visiting (3, 0)\n",
            "Iteration 8: Visiting (1, 0)\n",
            "Iteration 9: Visiting (3, 3)\n",
            "Iteration 10: Visiting (0, 1)\n",
            "Iteration 11: Visiting (4, 2)\n",
            "\n",
            " Target reached\n",
            "Path taken:\n",
            "(0, 0)\n",
            "(0, 3)\n",
            "(3, 0)\n",
            "(3, 3)\n",
            "(4, 2)\n"
          ]
        },
        {
          "output_type": "execute_result",
          "data": {
            "text/plain": [
              "True"
            ]
          },
          "metadata": {},
          "execution_count": 25
        }
      ]
    },
    {
      "cell_type": "code",
      "source": [],
      "metadata": {
        "id": "RdlwNv2RaFVK"
      },
      "execution_count": null,
      "outputs": []
    }
  ]
}