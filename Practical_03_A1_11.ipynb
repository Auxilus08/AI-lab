{
  "nbformat": 4,
  "nbformat_minor": 0,
  "metadata": {
    "colab": {
      "provenance": []
    },
    "kernelspec": {
      "name": "python3",
      "display_name": "Python 3"
    },
    "language_info": {
      "name": "python"
    }
  },
  "cells": [
    {
      "cell_type": "markdown",
      "source": [
        "# ***ARTIFICIAL INTELLIGENCE LAB PRACTICAL NUMBER 03***\n",
        "NAME: AKSHAT TIWARI\n",
        "\n",
        "SECTION: A\n",
        "\n",
        "ROLL NO: A1-11\n"
      ],
      "metadata": {
        "id": "ImxdbBg8ihOG"
      }
    },
    {
      "cell_type": "markdown",
      "source": [
        "## **Implement Uniform cost search algorithm on following tree/graph**"
      ],
      "metadata": {
        "id": "C7SrzQbYi8wu"
      }
    },
    {
      "cell_type": "code",
      "execution_count": null,
      "metadata": {
        "id": "wm2j5TclWdDt"
      },
      "outputs": [],
      "source": [
        "import heapq\n",
        "\n",
        "def uniform_cost_search(graph, start, goal):\n",
        "    queue = [(0, None, start)]\n",
        "\n",
        "    visited = set()\n",
        "    parent_map = {}\n",
        "\n",
        "    while queue:\n",
        "        path_cost, parent, current = heapq.heappop(queue)\n",
        "\n",
        "        if current in visited:\n",
        "            continue\n",
        "\n",
        "        visited.add(current)\n",
        "        parent_map[current] = parent\n",
        "\n",
        "        if current == goal:\n",
        "            path = []\n",
        "            while current is not None:\n",
        "                path.append(current)\n",
        "                current = parent_map[current]\n",
        "            return path[::-1], path_cost\n",
        "\n",
        "        for neighbor, cost in graph.get(current, []):\n",
        "            if neighbor not in visited:\n",
        "                heapq.heappush(queue, (path_cost + cost, current, neighbor))\n",
        "\n",
        "    return None, -1"
      ]
    },
    {
      "cell_type": "code",
      "source": [
        "graph = {\n",
        "    'S': [('A', 1), ('G', 12)],\n",
        "    'A': [('C', 1)],\n",
        "    'C': [('G', 2), ('D', 1)],\n",
        "    'D': [('G', 3)],\n",
        "    'B': [('A', 3), ('D', 3)],\n",
        "}\n",
        "\n",
        "path, cost = uniform_cost_search(graph, 'S', 'G')\n",
        "print(\"Path:\", path)\n",
        "print(\"Total Cost:\", cost)"
      ],
      "metadata": {
        "colab": {
          "base_uri": "https://localhost:8080/"
        },
        "id": "VrOJ5DvrYg6Q",
        "outputId": "67099f00-3418-4add-88c6-d796fd9ee97c"
      },
      "execution_count": null,
      "outputs": [
        {
          "output_type": "stream",
          "name": "stdout",
          "text": [
            "Path: ['S', 'A', 'C', 'G']\n",
            "Total Cost: 4\n"
          ]
        }
      ]
    },
    {
      "cell_type": "code",
      "source": [
        "graph1 = {\n",
        "    'S' : [('A', 1), ('B', 3), ('C', 5)],\n",
        "    'A' : [('G', 3)],\n",
        "    'B' : [('F', 5)],\n",
        "    'C' : [('E', 2)],\n",
        "    'E' : [('D', 1)]\n",
        "}\n",
        "\n",
        "Path, Cost = uniform_cost_search(graph1, 'S', 'D')\n",
        "print(\"Path:\", Path)\n",
        "print(\"Total Cost:\", Cost)"
      ],
      "metadata": {
        "id": "5dejl01SZx5A",
        "colab": {
          "base_uri": "https://localhost:8080/"
        },
        "outputId": "2bc8cd7f-6727-49bb-ad24-d1a82264fad2"
      },
      "execution_count": null,
      "outputs": [
        {
          "output_type": "stream",
          "name": "stdout",
          "text": [
            "Path: ['S', 'C', 'E', 'D']\n",
            "Total Cost: 8\n"
          ]
        }
      ]
    },
    {
      "cell_type": "code",
      "source": [
        "romania_graph = {\n",
        "    'Oradea': [('Zerind', 71), ('Sibiu', 151)],\n",
        "    'Zerind': [('Arad', 75), ('Oradea', 71)],\n",
        "    'Arad': [('Zerind', 75), ('Sibiu', 140), ('Timisoara', 118)],\n",
        "    'Timisoara': [('Arad', 118), ('Lugoj', 111)],\n",
        "    'Lugoj': [('Timisoara', 111), ('Mehadia', 70)],\n",
        "    'Mehadia': [('Lugoj', 70), ('Dobreta', 75)],\n",
        "    'Dobreta': [('Mehadia', 75), ('Craiova', 120)],\n",
        "    'Craiova': [('Dobreta', 120), ('Rimnicu Vilcea', 146), ('Pitesti', 138)],\n",
        "    'Sibiu': [('Arad', 140), ('Oradea', 151), ('Fagaras', 99), ('Rimnicu Vilcea', 80)],\n",
        "    'Rimnicu Vilcea': [('Sibiu', 80), ('Pitesti', 97), ('Craiova', 146)],\n",
        "    'Pitesti': [('Rimnicu Vilcea', 97), ('Craiova', 138), ('Bucharest', 101)],\n",
        "    'Fagaras': [('Sibiu', 99), ('Bucharest', 211)],\n",
        "    'Bucharest': [('Fagaras', 211), ('Pitesti', 101), ('Giurgiu', 90), ('Urziceni', 85)],\n",
        "    'Giurgiu': [('Bucharest', 90)],\n",
        "    'Urziceni': [('Bucharest', 85), ('Hirsova', 98), ('Vaslui', 142)],\n",
        "    'Hirsova': [('Urziceni', 98), ('Eforie', 86)],\n",
        "    'Eforie': [('Hirsova', 86)],\n",
        "    'Vaslui': [('Iasi', 92), ('Urziceni', 142)],\n",
        "    'Iasi': [('Vaslui', 92), ('Neamt', 87)],\n",
        "    'Neamt': [('Iasi', 87)]\n",
        "}\n",
        "\n",
        "path, cost = uniform_cost_search(romania_graph, 'Arad', 'Bucharest')\n",
        "print(\"Path:\", path)\n",
        "print(\"Total Cost:\", cost)"
      ],
      "metadata": {
        "colab": {
          "base_uri": "https://localhost:8080/"
        },
        "id": "qGzY5GyPcHNi",
        "outputId": "a0b85bf2-778d-41a2-97c0-9f71e8538d0c"
      },
      "execution_count": null,
      "outputs": [
        {
          "output_type": "stream",
          "name": "stdout",
          "text": [
            "Path: ['Arad', 'Sibiu', 'Rimnicu Vilcea', 'Pitesti', 'Bucharest']\n",
            "Total Cost: 418\n"
          ]
        }
      ]
    },
    {
      "cell_type": "code",
      "source": [],
      "metadata": {
        "id": "ffwUIcMqc1CQ"
      },
      "execution_count": null,
      "outputs": []
    },
    {
      "cell_type": "code",
      "source": [],
      "metadata": {
        "id": "pjqkVl94hwrR"
      },
      "execution_count": null,
      "outputs": []
    }
  ]
}